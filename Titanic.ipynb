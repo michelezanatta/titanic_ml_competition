{
 "cells": [
  {
   "cell_type": "markdown",
   "id": "98b3e526",
   "metadata": {},
   "source": [
    "# Titanic - Machine Learning\n",
    "## Introduction\n",
    "\n",
    "This is my try to the [Titanic ML competition](https://www.kaggle.com/c/titanic/overview). The competition is a Machine Learning binary classification problem, in which we have to build a predictive model that answers the question: “what sorts of people were more likely to survive?” using passenger data (ie name, age, gender, socio-economic class, etc).\n",
    "\n",
    "First of all I have analyze the train dataset and deal with na values. Then, I have categorized some feature, passing from continuous to discrete data. I have done the same changes in the test dataset too.\n",
    "\n",
    "In the second part, I have train some models with gridsearch to find out the best algorithm with the best hyperparameters from some choices. Thus, I have chosen the ones with gave me the best score and try to implement them. \n",
    "\n",
    "Finally, I have analyze the mistakes I make with the chosen model and wrote the csv model to submit to Kaggle."
   ]
  },
  {
   "cell_type": "markdown",
   "id": "146a3142",
   "metadata": {},
   "source": [
    "## Inizialization\n",
    "In this section I will import all the libraries and packages I need during this project, and then import the train and test dataset.\n",
    "### Packages and libraries"
   ]
  },
  {
   "cell_type": "code",
   "execution_count": 1,
   "id": "3b6cf0ca",
   "metadata": {},
   "outputs": [],
   "source": [
    "import numpy as np\n",
    "import pandas as pd\n",
    "import seaborn as sns\n",
    "import matplotlib.pyplot as plt\n",
    "from scipy.stats import skewnorm"
   ]
  },
  {
   "cell_type": "code",
   "execution_count": 2,
   "id": "bca2a78c",
   "metadata": {},
   "outputs": [],
   "source": [
    "from sklearn.model_selection import train_test_split\n",
    "\n",
    "from sklearn.model_selection import GridSearchCV\n",
    "from sklearn.linear_model import Perceptron\n",
    "from sklearn.linear_model import LogisticRegression\n",
    "from sklearn.svm import SVC\n",
    "from sklearn.tree import DecisionTreeClassifier\n",
    "from sklearn.ensemble import RandomForestClassifier\n",
    "from sklearn.neighbors import KNeighborsClassifier\n",
    "\n",
    "from sklearn.metrics import f1_score\n",
    "from sklearn.metrics import accuracy_score\n",
    "from sklearn.metrics import confusion_matrix\n",
    "from sklearn.metrics import ConfusionMatrixDisplay"
   ]
  },
  {
   "cell_type": "markdown",
   "id": "30e02bcc",
   "metadata": {},
   "source": [
    "### Data"
   ]
  },
  {
   "cell_type": "code",
   "execution_count": 3,
   "id": "92684cec",
   "metadata": {},
   "outputs": [],
   "source": [
    "file_path_train = 'train.csv'\n",
    "file_path_test = 'test.csv'"
   ]
  },
  {
   "cell_type": "code",
   "execution_count": 4,
   "id": "c5465dd8",
   "metadata": {},
   "outputs": [],
   "source": [
    "data_train = pd.read_csv(file_path_train, sep = ',', index_col = 'PassengerId')\n",
    "data_test = pd.read_csv(file_path_test, sep = ',', index_col = 'PassengerId')\n",
    "data = [data_train, data_test]"
   ]
  },
  {
   "cell_type": "markdown",
   "id": "52c3b20a",
   "metadata": {},
   "source": [
    "## Data analysis and preprocessing\n",
    "In this section I will do some data analysis and preprocessing. First, I will explore the data. Then, I will deal with nan values that are present in some columns. After that, I will transform some features into categorical features."
   ]
  },
  {
   "cell_type": "code",
   "execution_count": 5,
   "id": "1c8d66e1",
   "metadata": {},
   "outputs": [
    {
     "name": "stdout",
     "output_type": "stream",
     "text": [
      "Number of features in the train dataset : 891 \n",
      "Number of examples in the train dataset : 11\n",
      "Number of features in the test dataset : 418 \n",
      "Number of examples in the test dataset : 10\n"
     ]
    }
   ],
   "source": [
    "print('Number of features in the train dataset : {} \\nNumber of examples in the train dataset : {}'.format(data_train.shape[0], data_train.shape[1]))\n",
    "print('Number of features in the test dataset : {} \\nNumber of examples in the test dataset : {}'.format(data_test.shape[0], data_test.shape[1]))"
   ]
  },
  {
   "cell_type": "markdown",
   "id": "993cc86b",
   "metadata": {},
   "source": [
    "We see that the test dataset has 10 columns instead of 11 because it miss the Survived feature."
   ]
  },
  {
   "cell_type": "code",
   "execution_count": 6,
   "id": "64292886",
   "metadata": {},
   "outputs": [
    {
     "name": "stdout",
     "output_type": "stream",
     "text": [
      "             Survived  Pclass  \\\n",
      "PassengerId                     \n",
      "1                   0       3   \n",
      "2                   1       1   \n",
      "3                   1       3   \n",
      "4                   1       1   \n",
      "5                   0       3   \n",
      "\n",
      "                                                          Name     Sex   Age  \\\n",
      "PassengerId                                                                    \n",
      "1                                      Braund, Mr. Owen Harris    male  22.0   \n",
      "2            Cumings, Mrs. John Bradley (Florence Briggs Th...  female  38.0   \n",
      "3                                       Heikkinen, Miss. Laina  female  26.0   \n",
      "4                 Futrelle, Mrs. Jacques Heath (Lily May Peel)  female  35.0   \n",
      "5                                     Allen, Mr. William Henry    male  35.0   \n",
      "\n",
      "             SibSp  Parch            Ticket     Fare Cabin Embarked  \n",
      "PassengerId                                                          \n",
      "1                1      0         A/5 21171   7.2500   NaN        S  \n",
      "2                1      0          PC 17599  71.2833   C85        C  \n",
      "3                0      0  STON/O2. 3101282   7.9250   NaN        S  \n",
      "4                1      0            113803  53.1000  C123        S  \n",
      "5                0      0            373450   8.0500   NaN        S  \n",
      "             Pclass                                          Name     Sex  \\\n",
      "PassengerId                                                                 \n",
      "892               3                              Kelly, Mr. James    male   \n",
      "893               3              Wilkes, Mrs. James (Ellen Needs)  female   \n",
      "894               2                     Myles, Mr. Thomas Francis    male   \n",
      "895               3                              Wirz, Mr. Albert    male   \n",
      "896               3  Hirvonen, Mrs. Alexander (Helga E Lindqvist)  female   \n",
      "\n",
      "              Age  SibSp  Parch   Ticket     Fare Cabin Embarked  \n",
      "PassengerId                                                       \n",
      "892          34.5      0      0   330911   7.8292   NaN        Q  \n",
      "893          47.0      1      0   363272   7.0000   NaN        S  \n",
      "894          62.0      0      0   240276   9.6875   NaN        Q  \n",
      "895          27.0      0      0   315154   8.6625   NaN        S  \n",
      "896          22.0      1      1  3101298  12.2875   NaN        S  \n"
     ]
    }
   ],
   "source": [
    "for dataset in data:\n",
    "    print(dataset.head())"
   ]
  },
  {
   "cell_type": "code",
   "execution_count": 7,
   "id": "343c9185",
   "metadata": {},
   "outputs": [
    {
     "name": "stdout",
     "output_type": "stream",
     "text": [
      "<class 'pandas.core.frame.DataFrame'>\n",
      "Int64Index: 891 entries, 1 to 891\n",
      "Data columns (total 11 columns):\n",
      " #   Column    Non-Null Count  Dtype  \n",
      "---  ------    --------------  -----  \n",
      " 0   Survived  891 non-null    int64  \n",
      " 1   Pclass    891 non-null    int64  \n",
      " 2   Name      891 non-null    object \n",
      " 3   Sex       891 non-null    object \n",
      " 4   Age       714 non-null    float64\n",
      " 5   SibSp     891 non-null    int64  \n",
      " 6   Parch     891 non-null    int64  \n",
      " 7   Ticket    891 non-null    object \n",
      " 8   Fare      891 non-null    float64\n",
      " 9   Cabin     204 non-null    object \n",
      " 10  Embarked  889 non-null    object \n",
      "dtypes: float64(2), int64(4), object(5)\n",
      "memory usage: 83.5+ KB\n",
      "None\n"
     ]
    }
   ],
   "source": [
    "print(data_train.info())"
   ]
  },
  {
   "cell_type": "markdown",
   "id": "bdd171b9",
   "metadata": {},
   "source": [
    "We have that 5 columns have an <code>object</code> dtype. Thus we have to work on it in some ways. Then, we see that some columns have some <code>nan</code> values. Finally, it could be a good idea to transform the float columns into int columns."
   ]
  },
  {
   "cell_type": "code",
   "execution_count": 8,
   "id": "70aa6dc7",
   "metadata": {},
   "outputs": [
    {
     "name": "stdout",
     "output_type": "stream",
     "text": [
      "         Survived      Pclass         Age       SibSp       Parch        Fare\n",
      "count  891.000000  891.000000  714.000000  891.000000  891.000000  891.000000\n",
      "mean     0.383838    2.308642   29.699118    0.523008    0.381594   32.204208\n",
      "std      0.486592    0.836071   14.526497    1.102743    0.806057   49.693429\n",
      "min      0.000000    1.000000    0.420000    0.000000    0.000000    0.000000\n",
      "25%      0.000000    2.000000   20.125000    0.000000    0.000000    7.910400\n",
      "50%      0.000000    3.000000   28.000000    0.000000    0.000000   14.454200\n",
      "75%      1.000000    3.000000   38.000000    1.000000    0.000000   31.000000\n",
      "max      1.000000    3.000000   80.000000    8.000000    6.000000  512.329200\n"
     ]
    }
   ],
   "source": [
    "print(data_train.describe())"
   ]
  },
  {
   "cell_type": "markdown",
   "id": "fa266c52",
   "metadata": {},
   "source": [
    "We can see that the numeric features have different scales and this could be a problem during the training of some methods. We will deal with this after."
   ]
  },
  {
   "cell_type": "markdown",
   "id": "763dbfde",
   "metadata": {},
   "source": [
    "### Dealing with Nan values"
   ]
  },
  {
   "cell_type": "code",
   "execution_count": 9,
   "id": "92fbf62e",
   "metadata": {},
   "outputs": [
    {
     "name": "stdout",
     "output_type": "stream",
     "text": [
      "Train dataset\n",
      "Columns with NA values\n",
      "Survived    False\n",
      "Pclass      False\n",
      "Name        False\n",
      "Sex         False\n",
      "Age          True\n",
      "SibSp       False\n",
      "Parch       False\n",
      "Ticket      False\n",
      "Fare        False\n",
      "Cabin        True\n",
      "Embarked     True\n",
      "dtype: bool \n",
      "Percentage of NA values\n",
      "Survived     0.0\n",
      "Pclass       0.0\n",
      "Name         0.0\n",
      "Sex          0.0\n",
      "Age         19.9\n",
      "SibSp        0.0\n",
      "Parch        0.0\n",
      "Ticket       0.0\n",
      "Fare         0.0\n",
      "Cabin       77.1\n",
      "Embarked     0.2\n",
      "dtype: float64\n",
      "\n",
      "Test dataset\n",
      "Columns with NA values\n",
      "Pclass      False\n",
      "Name        False\n",
      "Sex         False\n",
      "Age          True\n",
      "SibSp       False\n",
      "Parch       False\n",
      "Ticket      False\n",
      "Fare         True\n",
      "Cabin        True\n",
      "Embarked    False\n",
      "dtype: bool \n",
      "Percentage of NA values\n",
      "Pclass       0.0\n",
      "Name         0.0\n",
      "Sex          0.0\n",
      "Age         20.6\n",
      "SibSp        0.0\n",
      "Parch        0.0\n",
      "Ticket       0.0\n",
      "Fare         0.2\n",
      "Cabin       78.2\n",
      "Embarked     0.0\n",
      "dtype: float64\n"
     ]
    }
   ],
   "source": [
    "print('Train dataset')\n",
    "print('Columns with NA values\\n{}'.format(data_train.isnull().any()), '\\nPercentage of NA values\\n{}'.format(round(data_train.isnull().sum()/data_train.shape[0]*100, 1)))\n",
    "print()\n",
    "print('Test dataset')\n",
    "print('Columns with NA values\\n{}'.format(data_test.isnull().any()), '\\nPercentage of NA values\\n{}'.format(round(data_test.isnull().sum()/data_test.shape[0]*100, 1)))"
   ]
  },
  {
   "cell_type": "markdown",
   "id": "2ecb1180",
   "metadata": {},
   "source": [
    "We note that we have some columns that have <code>nan</code> values both in train and test dataset, as **Age** and **Cabin**, while other have <code>nan</code> values only in one dataset, as **Embarked** and **Fare**. We note also that there is an high percentage of <code>nan</code> values in the **Cabin** feature, so I would just drop it. For the **Age** column, I will try to look for the distribution and substite the missing values with some values taken from the same distribution. While, since the <code>nan</code> values percentage in the **Embarked** and **Fare** columns is very low, I will substitute them with the more common value and the median value."
   ]
  },
  {
   "cell_type": "markdown",
   "id": "4550833b",
   "metadata": {},
   "source": [
    "#### Age"
   ]
  },
  {
   "cell_type": "code",
   "execution_count": 10,
   "id": "d8916cc7",
   "metadata": {},
   "outputs": [
    {
     "data": {
      "image/png": "[encoded data removed]",
      "text/plain": [
       "<Figure size 432x288 with 1 Axes>"
      ]
     },
     "metadata": {
      "needs_background": "light"
     },
     "output_type": "display_data"
    },
    {
     "data": {
      "image/png": "[encoded data removed]",
      "text/plain": [
       "<Figure size 432x288 with 1 Axes>"
      ]
     },
     "metadata": {
      "needs_background": "light"
     },
     "output_type": "display_data"
    }
   ],
   "source": [
    "# plot the distribution of the age data\n",
    "for dataset in data:\n",
    "    fig, ax = plt.subplots(1, 1)\n",
    "    hist_plot = sns.histplot(dataset['Age'], ax = ax)"
   ]
  },
  {
   "cell_type": "markdown",
   "id": "4ed4469a",
   "metadata": {},
   "source": [
    "We can see that the age is similar to a skewed normal distribution. I used <code>skewnorm.fit</code> to obtain an estimation of the parameters of the distribution, and <code>skewnorm.rvs</code> to generate a number of points from this distribution. The number of points is equivalent to the number of <code>nan</code> values in the age column."
   ]
  },
  {
   "cell_type": "code",
   "execution_count": 11,
   "id": "42c103e8",
   "metadata": {},
   "outputs": [
    {
     "data": {
      "image/png": "[encoded data removed]",
      "text/plain": [
       "<Figure size 432x288 with 1 Axes>"
      ]
     },
     "metadata": {
      "needs_background": "light"
     },
     "output_type": "display_data"
    },
    {
     "data": {
      "image/png": "[encoded data removed]",
      "text/plain": [
       "<Figure size 432x288 with 1 Axes>"
      ]
     },
     "metadata": {
      "needs_background": "light"
     },
     "output_type": "display_data"
    }
   ],
   "source": [
    "for dataset in data:\n",
    "    a, loc, scale = skewnorm.fit(dataset.loc[dataset['Age'].notnull(), 'Age'])\n",
    "    new_age = skewnorm.rvs(a, loc = loc, scale = scale,  size = dataset['Age'].isnull().sum(), random_state = 3)\n",
    "    new_age[new_age<0] = 1\n",
    "    new_age = pd.Series(new_age)\n",
    "    new_age = new_age.astype(int)\n",
    "    new_age = new_age + 0.5\n",
    "    new_age.index = dataset[dataset['Age'].isnull()].index\n",
    "    dataset.loc[dataset.Age.isnull(), 'Age'] = new_age\n",
    "    fig, ax = plt.subplots(1, 1)\n",
    "    sns.histplot(new_age, bins = 16, ax = ax)"
   ]
  },
  {
   "cell_type": "markdown",
   "id": "2a0716c1",
   "metadata": {},
   "source": [
    "#### Cabin"
   ]
  },
  {
   "cell_type": "markdown",
   "id": "3198451c",
   "metadata": {},
   "source": [
    "Since we have too much <code>nan</code> values in the 'Cabin' column, I will just drop the column."
   ]
  },
  {
   "cell_type": "code",
   "execution_count": 12,
   "id": "89787d6d",
   "metadata": {},
   "outputs": [],
   "source": [
    "for dataset in data:\n",
    "    dataset.drop('Cabin', axis = 1, inplace = True)"
   ]
  },
  {
   "cell_type": "markdown",
   "id": "ecbd55b8",
   "metadata": {},
   "source": [
    "#### Embarked"
   ]
  },
  {
   "cell_type": "markdown",
   "id": "126c7b0c",
   "metadata": {},
   "source": [
    "There are only 2 <code>nan</code> values in the 'Embarked' column of the train dataset, thus it seems fair to me to replace these values with the most common one within this feature."
   ]
  },
  {
   "cell_type": "code",
   "execution_count": 13,
   "id": "28dc5271",
   "metadata": {},
   "outputs": [],
   "source": [
    "data_train['Embarked'].fillna(data_train['Embarked'].mode()[0], inplace = True)"
   ]
  },
  {
   "cell_type": "markdown",
   "id": "a177454a",
   "metadata": {},
   "source": [
    "#### Fare\n",
    "There is only one <code>nan</code> value in the 'Fare' column of the test set. Thus, I will replace it with the median of this feature."
   ]
  },
  {
   "cell_type": "code",
   "execution_count": 14,
   "id": "882d00ef",
   "metadata": {},
   "outputs": [],
   "source": [
    "data_test['Fare'].fillna(data_test['Fare'].median(), inplace = True)"
   ]
  },
  {
   "cell_type": "markdown",
   "id": "bbfcf95e",
   "metadata": {},
   "source": [
    "#### Conclusion\n",
    "Let's see if there are still some missing values."
   ]
  },
  {
   "cell_type": "code",
   "execution_count": 15,
   "id": "bc81b0bc",
   "metadata": {},
   "outputs": [
    {
     "name": "stdout",
     "output_type": "stream",
     "text": [
      "Are there some missing values in the train dataset: False\n",
      "Are there some missing values in the test dataset: False\n"
     ]
    }
   ],
   "source": [
    "print('Are there some missing values in the train dataset: {}'.format(data_train.isnull().any().any()))\n",
    "print('Are there some missing values in the test dataset: {}'.format(data_test.isnull().any().any()))"
   ]
  },
  {
   "cell_type": "markdown",
   "id": "de667017",
   "metadata": {},
   "source": [
    "### Categorical to numerical and scaled\n",
    "As we said earlier, there are some features which are categorical. In this subsection I will transform the categories of the **Embarked** nad **Sex** columns into numeric categories.\n",
    "\n",
    "Then, I will create some new features categorizing the **Age** and **Fare** columns."
   ]
  },
  {
   "cell_type": "markdown",
   "id": "0826f436",
   "metadata": {},
   "source": [
    "#### Embarked"
   ]
  },
  {
   "cell_type": "markdown",
   "id": "216d8f5a",
   "metadata": {},
   "source": [
    "The 'Embarked' column has just three values. Thus, we replace the original values with 0, 1 and 2."
   ]
  },
  {
   "cell_type": "code",
   "execution_count": 16,
   "id": "3807f026",
   "metadata": {},
   "outputs": [],
   "source": [
    "values_embarked = {'S' : 0, 'C' : 1, 'Q' : 2}\n",
    "def change_embarked(x):\n",
    "    return values_embarked[x]\n",
    "\n",
    "for dataset in data:\n",
    "    dataset['Embarked'] = dataset['Embarked'].apply(change_embarked)"
   ]
  },
  {
   "cell_type": "markdown",
   "id": "7743f2ed",
   "metadata": {},
   "source": [
    "#### Sex"
   ]
  },
  {
   "cell_type": "code",
   "execution_count": 17,
   "id": "9a47d72e",
   "metadata": {},
   "outputs": [],
   "source": [
    "genders = {'male' : 0, 'female' : 1}\n",
    "\n",
    "for dataset in data:\n",
    "    dataset['Sex'] = dataset['Sex'].map(genders)"
   ]
  },
  {
   "cell_type": "markdown",
   "id": "d92883f4",
   "metadata": {},
   "source": [
    "#### Age"
   ]
  },
  {
   "cell_type": "code",
   "execution_count": 18,
   "id": "f7262e8e",
   "metadata": {},
   "outputs": [
    {
     "data": {
      "image/png": "[encoded data removed]",
      "text/plain": [
       "<Figure size 1440x576 with 2 Axes>"
      ]
     },
     "metadata": {
      "needs_background": "light"
     },
     "output_type": "display_data"
    }
   ],
   "source": [
    "fig, ax = plt.subplots(1, 2, figsize = (20, 8))\n",
    "\n",
    "bins = 16\n",
    "women = data_train.loc[data_train['Sex'] == 1]\n",
    "men = data_train.loc[data_train['Sex'] == 0]\n",
    "\n",
    "_ = sns.histplot(women.loc[women['Survived'] == 1, 'Age'], label = 'Survived', ax = ax[0], kde = False, color = 'g', bins = bins)\n",
    "_ = sns.histplot(women.loc[women['Survived'] == 0, 'Age'], label = 'Not survived', ax = ax[0], kde = False, color = 'r', bins = bins)\n",
    "_.legend()\n",
    "_.set_title('Female')\n",
    "\n",
    "_ = sns.histplot(men.loc[men['Survived'] == 1, 'Age'], label = 'Survived', ax = ax[1], kde = False, color = 'g', bins = bins)\n",
    "_ = sns.histplot(men.loc[men['Survived'] == 0, 'Age'], label = 'Not survived', ax = ax[1], kde = False, color = 'r', bins = bins)\n",
    "_.legend()\n",
    "_.set_title('Male');"
   ]
  },
  {
   "cell_type": "markdown",
   "id": "1d422be8",
   "metadata": {},
   "source": [
    "We can see that there are some age categories - both in male or female - where people survive more or less. So it could be a good idea to categorize them."
   ]
  },
  {
   "cell_type": "code",
   "execution_count": 19,
   "id": "d9ab0621",
   "metadata": {},
   "outputs": [],
   "source": [
    "for dataset in data:\n",
    "    dataset['Age_cat'] = pd.qcut(dataset['Age'], 8, labels = False)\n",
    "    dataset['Age_cat'].value_counts()"
   ]
  },
  {
   "cell_type": "code",
   "execution_count": 20,
   "id": "6b282c4d",
   "metadata": {},
   "outputs": [
    {
     "name": "stdout",
     "output_type": "stream",
     "text": [
      "Number of elements in each class given the survived label \n",
      "Survived  Age_cat\n",
      "0         0          54\n",
      "          1          74\n",
      "          2          70\n",
      "          3          71\n",
      "          4          74\n",
      "          5          63\n",
      "          6          78\n",
      "          7          65\n",
      "1         0          60\n",
      "          1          38\n",
      "          2          41\n",
      "          3          40\n",
      "          4          49\n",
      "          5          37\n",
      "          6          36\n",
      "          7          41\n",
      "dtype: int64\n"
     ]
    }
   ],
   "source": [
    "print('Number of elements in each class given the survived label \\n{}'.format(data_train.groupby(by = ['Survived', 'Age_cat']).size()))"
   ]
  },
  {
   "cell_type": "markdown",
   "id": "54ad8120",
   "metadata": {},
   "source": [
    "We note that we don't have unbalanced data here."
   ]
  },
  {
   "cell_type": "markdown",
   "id": "5316f899",
   "metadata": {},
   "source": [
    "#### Fare"
   ]
  },
  {
   "cell_type": "code",
   "execution_count": 21,
   "id": "57019c4c",
   "metadata": {},
   "outputs": [],
   "source": [
    "# Round the dataset to integers\n",
    "for dataset in data:\n",
    "    dataset['Fare'] = dataset['Fare'].astype(int)"
   ]
  },
  {
   "cell_type": "code",
   "execution_count": 22,
   "id": "329e0860",
   "metadata": {},
   "outputs": [
    {
     "data": {
      "text/plain": [
       "Text(0.5, 1.0, 'Fare')"
      ]
     },
     "execution_count": 22,
     "metadata": {},
     "output_type": "execute_result"
    },
    {
     "data": {
      "image/png": "[encoded data removed]",
      "text/plain": [
       "<Figure size 432x288 with 1 Axes>"
      ]
     },
     "metadata": {
      "needs_background": "light"
     },
     "output_type": "display_data"
    }
   ],
   "source": [
    "fig = plt.plot(figsize = (20, 8))\n",
    "\n",
    "bins = 16\n",
    "_ = sns.histplot(data_train.loc[data_train['Survived'] == 1, 'Fare'], label = 'Survived', kde = False, color = 'g', bins = bins)\n",
    "_ = sns.histplot(data_train.loc[data_train['Survived'] == 0, 'Fare'], label = 'Not survived', color = 'r', bins = bins)\n",
    "_.legend()\n",
    "_.set_title('Fare')\n"
   ]
  },
  {
   "cell_type": "code",
   "execution_count": 23,
   "id": "22ab13b1",
   "metadata": {},
   "outputs": [],
   "source": [
    "for dataset in data:\n",
    "    dataset['Fare_cat'] = pd.qcut(dataset['Fare'], 4, labels = False)\n",
    "    dataset['Fare_cat'].value_counts()"
   ]
  },
  {
   "cell_type": "code",
   "execution_count": 24,
   "id": "2e0a0f39",
   "metadata": {},
   "outputs": [
    {
     "name": "stdout",
     "output_type": "stream",
     "text": [
      "Number of elements in each class given the survived label \n",
      "Survived  Fare_cat\n",
      "0         0           189\n",
      "          1           154\n",
      "          2           121\n",
      "          3            85\n",
      "1         0            52\n",
      "          1            62\n",
      "          2           102\n",
      "          3           126\n",
      "dtype: int64\n"
     ]
    }
   ],
   "source": [
    "print('Number of elements in each class given the survived label \\n{}'.format(data_train.groupby(by = ['Survived', 'Fare_cat']).size()))"
   ]
  },
  {
   "cell_type": "markdown",
   "id": "009c9aff",
   "metadata": {},
   "source": [
    "#### Name\n",
    "In this subsection we will create a new column named **Title** from the **Name** column, taking only the title of each person."
   ]
  },
  {
   "cell_type": "code",
   "execution_count": 25,
   "id": "30f2eaa4",
   "metadata": {},
   "outputs": [
    {
     "name": "stdout",
     "output_type": "stream",
     "text": [
      "[('Mr.', 517), ('Miss.', 182), ('Mrs.', 125), ('William', 62), ('John', 44), ('Master.', 40), ('Henry', 33), ('James', 24)]\n"
     ]
    }
   ],
   "source": [
    "# A look at the most common titles\n",
    "\n",
    "all_names = {}\n",
    "for name in data_train['Name']:\n",
    "    name = name.split(' ')\n",
    "    for word in name:\n",
    "        if word in all_names.keys():\n",
    "            all_names[word] += 1\n",
    "        else:\n",
    "            all_names[word] = 1\n",
    "all_names = sorted(all_names.items(), key = lambda x : -x[1])\n",
    "print(all_names[:8])"
   ]
  },
  {
   "cell_type": "code",
   "execution_count": 26,
   "id": "27255010",
   "metadata": {},
   "outputs": [],
   "source": [
    "titles = {'Mrs' : 3, 'Mr' : 1, 'Miss' : 2, 'Master' : 4, 'Other' : 5}"
   ]
  },
  {
   "cell_type": "code",
   "execution_count": 27,
   "id": "b11b7439",
   "metadata": {},
   "outputs": [],
   "source": [
    "def replacing_titles(name):\n",
    "    flag = False\n",
    "    for title in titles.keys():\n",
    "        if title in name:\n",
    "            flag = True\n",
    "            return title\n",
    "    if flag == False:\n",
    "        return 'Other'\n",
    "    \n",
    "for dataset in data:\n",
    "    dataset['Title'] = dataset['Name'].map(replacing_titles)\n",
    "    dataset['Title'] = dataset['Title'].map(titles)"
   ]
  },
  {
   "cell_type": "code",
   "execution_count": 28,
   "id": "14fad268",
   "metadata": {},
   "outputs": [
    {
     "name": "stdout",
     "output_type": "stream",
     "text": [
      "Number of values for each title \n",
      "1    518\n",
      "2    180\n",
      "3    129\n",
      "4     40\n",
      "5     24\n",
      "Name: Title, dtype: int64\n"
     ]
    }
   ],
   "source": [
    "print('Number of values for each title \\n{}'.format(data_train['Title'].value_counts()))"
   ]
  },
  {
   "cell_type": "markdown",
   "id": "395cbd7b",
   "metadata": {},
   "source": [
    "### Train and validation set"
   ]
  },
  {
   "cell_type": "markdown",
   "id": "00637976",
   "metadata": {},
   "source": [
    "In this section I will select the features I want the algorithms use. I am not taking the **Age** and **Fare** columns but their fees categorized ones."
   ]
  },
  {
   "cell_type": "code",
   "execution_count": 29,
   "id": "2f798866",
   "metadata": {},
   "outputs": [],
   "source": [
    "features = ['Pclass', 'Sex', 'Age_cat', 'SibSp', 'Parch', 'Fare_cat', 'Embarked', 'Title']"
   ]
  },
  {
   "cell_type": "code",
   "execution_count": 30,
   "id": "79031933",
   "metadata": {},
   "outputs": [
    {
     "name": "stdout",
     "output_type": "stream",
     "text": [
      "Shape of X_train_val: (891, 8)\n"
     ]
    }
   ],
   "source": [
    "X_train_val = data_train.loc[:, features].copy()\n",
    "print('Shape of X_train_val: {}'.format(X_train_val.shape))"
   ]
  },
  {
   "cell_type": "code",
   "execution_count": 31,
   "id": "c893a8cf",
   "metadata": {},
   "outputs": [
    {
     "name": "stdout",
     "output_type": "stream",
     "text": [
      "Shape of y_train_val: (891,)\n"
     ]
    }
   ],
   "source": [
    "y_train_val = data_train.loc[:, 'Survived'].copy()\n",
    "print('Shape of y_train_val: {}'.format(y_train_val.shape))"
   ]
  },
  {
   "cell_type": "code",
   "execution_count": 32,
   "id": "12dc74e9",
   "metadata": {},
   "outputs": [
    {
     "name": "stdout",
     "output_type": "stream",
     "text": [
      "Shape of X_train: (712, 8) \tShape of y_train: (712,)\n",
      "Shape of X_val: (179, 8) \tShape of y_val: (179,)\n"
     ]
    }
   ],
   "source": [
    "X_train, X_val, y_train, y_val = train_test_split(X_train_val, y_train_val,\n",
    "                                                 train_size = 0.8, random_state = 123)\n",
    "print('Shape of X_train: {}'.format(X_train.shape), '\\tShape of y_train: {}'.format(y_train.shape))\n",
    "print('Shape of X_val: {}'.format(X_val.shape), '\\tShape of y_val: {}'.format(y_val.shape))"
   ]
  },
  {
   "cell_type": "markdown",
   "id": "ee68fa53",
   "metadata": {},
   "source": [
    "## Processing with Gridsearch\n",
    "In this section I will use diferent algorithms implemented with gridsearch to try different hyperparameters and find the best ones. The algorithms I will use are:\n",
    "- Perceptron\n",
    "- Logistic Regression\n",
    "- SVM\n",
    "- Decision Tree\n",
    "- Random Forest\n",
    "- K-nn (not a gridsearch but I will try different ks)"
   ]
  },
  {
   "cell_type": "markdown",
   "id": "d8fb234d",
   "metadata": {},
   "source": [
    "#### GridSearch Perceptron"
   ]
  },
  {
   "cell_type": "code",
   "execution_count": 33,
   "id": "af122710",
   "metadata": {},
   "outputs": [
    {
     "data": {
      "text/plain": [
       "GridSearchCV(cv=2, estimator=Perceptron(),\n",
       "             param_grid={'alpha': [0, 1e-05, 0.0001, 0.001, 0.01, 0.1, 1, 2],\n",
       "                         'max_iter': [200, 500, 1000, 2000], 'n_jobs': [1]})"
      ]
     },
     "execution_count": 33,
     "metadata": {},
     "output_type": "execute_result"
    }
   ],
   "source": [
    "parameters = {'alpha' : [0, 0.00001, 0.0001, 0.001, 0.01, 0.1, 1, 2], \n",
    "             'max_iter' : [200, 500, 1000, 2000], \n",
    "             'n_jobs' : [1]}\n",
    "ptr = Perceptron()\n",
    "gs_ptr = GridSearchCV(ptr, param_grid = parameters, cv = 2)\n",
    "\n",
    "gs_ptr.fit(X_train, y_train)"
   ]
  },
  {
   "cell_type": "code",
   "execution_count": 34,
   "id": "94e8d49e",
   "metadata": {},
   "outputs": [
    {
     "name": "stdout",
     "output_type": "stream",
     "text": [
      "The best accuracy score is: 0.5870786516853932\n",
      "The best parameters are: {'alpha': 0, 'max_iter': 200, 'n_jobs': 1}\n"
     ]
    }
   ],
   "source": [
    "print('The best accuracy score is: {}\\nThe best parameters are: {}'.format(gs_ptr.best_score_, gs_ptr.best_params_))\n"
   ]
  },
  {
   "cell_type": "markdown",
   "id": "ea1e6351",
   "metadata": {},
   "source": [
    "#### GridSearch Logistic regression"
   ]
  },
  {
   "cell_type": "code",
   "execution_count": 35,
   "id": "188a5b4d",
   "metadata": {},
   "outputs": [
    {
     "data": {
      "text/plain": [
       "GridSearchCV(cv=4, estimator=LogisticRegression(),\n",
       "             param_grid={'C': [0.001, 0.01, 0.1, 1], 'penalty': ['l2']})"
      ]
     },
     "execution_count": 35,
     "metadata": {},
     "output_type": "execute_result"
    }
   ],
   "source": [
    "parameters = {'penalty' : ['l2'],\n",
    "             'C' : [0.001, 0.01, 0.1, 1]}\n",
    "\n",
    "lr = LogisticRegression()\n",
    "gs_lr = GridSearchCV(lr, param_grid = parameters, cv = 4)\n",
    "\n",
    "gs_lr.fit(X_train_val, y_train_val)"
   ]
  },
  {
   "cell_type": "code",
   "execution_count": 36,
   "id": "acbce1ee",
   "metadata": {},
   "outputs": [
    {
     "name": "stdout",
     "output_type": "stream",
     "text": [
      "The best accuracy score is: 0.8091998949622268\n",
      "The best parameters are: {'C': 1, 'penalty': 'l2'}\n"
     ]
    }
   ],
   "source": [
    "print('The best accuracy score is: {}\\nThe best parameters are: {}'.format(gs_lr.best_score_, gs_lr.best_params_))"
   ]
  },
  {
   "cell_type": "markdown",
   "id": "c8b59147",
   "metadata": {},
   "source": [
    "#### Gridsearch SVM"
   ]
  },
  {
   "cell_type": "code",
   "execution_count": 37,
   "id": "2885aab3",
   "metadata": {},
   "outputs": [
    {
     "data": {
      "text/plain": [
       "GridSearchCV(cv=5, estimator=SVC(),\n",
       "             param_grid={'C': [0.1, 1, 10, 100], 'kernel': ('linear', 'rbf')})"
      ]
     },
     "execution_count": 37,
     "metadata": {},
     "output_type": "execute_result"
    }
   ],
   "source": [
    "parameters = {'kernel' : ('linear', 'rbf'),\n",
    "            'C' : [0.1, 1, 10, 100]}\n",
    "svc = SVC()\n",
    "gs_svc = GridSearchCV(svc, param_grid=parameters, cv = 5)\n",
    "\n",
    "gs_svc.fit(X_train_val, y_train_val)\n"
   ]
  },
  {
   "cell_type": "code",
   "execution_count": 38,
   "id": "44f21bd4",
   "metadata": {},
   "outputs": [
    {
     "name": "stdout",
     "output_type": "stream",
     "text": [
      "The best score is: 0.8293704098926622\n",
      "The best parameters are: {'C': 10, 'kernel': 'rbf'}\n"
     ]
    }
   ],
   "source": [
    "print('The best score is: {}\\nThe best parameters are: {}'.format(gs_svc.best_score_, gs_svc.best_params_))"
   ]
  },
  {
   "cell_type": "markdown",
   "id": "56f0150e",
   "metadata": {},
   "source": [
    "#### Gridsearch Decision tree"
   ]
  },
  {
   "cell_type": "code",
   "execution_count": 39,
   "id": "7097954c",
   "metadata": {},
   "outputs": [
    {
     "data": {
      "text/plain": [
       "GridSearchCV(cv=4, estimator=DecisionTreeClassifier(),\n",
       "             param_grid={'criterion': ['gini', 'entropy'],\n",
       "                         'max_depth': [3, 5, 10, 15, None],\n",
       "                         'random_state': [90, 123, 42, 56, 45]})"
      ]
     },
     "execution_count": 39,
     "metadata": {},
     "output_type": "execute_result"
    }
   ],
   "source": [
    "parameters = {'criterion' : ['gini', 'entropy'],\n",
    "             'max_depth' : [3, 5, 10, 15, None],\n",
    "             'random_state' : [90, 123, 42, 56, 45]}\n",
    "\n",
    "dt = DecisionTreeClassifier()\n",
    "\n",
    "gs_dt = GridSearchCV(dt, param_grid=parameters, cv = 4)\n",
    "\n",
    "gs_dt.fit(X_train_val, y_train_val)"
   ]
  },
  {
   "cell_type": "code",
   "execution_count": 40,
   "id": "bf037db9",
   "metadata": {},
   "outputs": [
    {
     "name": "stdout",
     "output_type": "stream",
     "text": [
      "The best score is: 0.8204258069728922\n",
      "The best parameters are: {'criterion': 'gini', 'max_depth': 3, 'random_state': 90}\n"
     ]
    }
   ],
   "source": [
    "print('The best score is: {}\\nThe best parameters are: {}'.format(gs_dt.best_score_, gs_dt.best_params_))"
   ]
  },
  {
   "cell_type": "markdown",
   "id": "275b8b4d",
   "metadata": {},
   "source": [
    "#### Gridsearch Random forest"
   ]
  },
  {
   "cell_type": "code",
   "execution_count": 41,
   "id": "9912f17f",
   "metadata": {},
   "outputs": [
    {
     "data": {
      "text/plain": [
       "GridSearchCV(cv=4, estimator=RandomForestClassifier(),\n",
       "             param_grid={'criterion': ['gini', 'entropy'],\n",
       "                         'max_depth': [3, 5, 10],\n",
       "                         'n_estimators': [50, 100, 150],\n",
       "                         'random_state': [90, 123, 42, 56, 45]})"
      ]
     },
     "execution_count": 41,
     "metadata": {},
     "output_type": "execute_result"
    }
   ],
   "source": [
    "parameters = {'n_estimators' : [50, 100, 150],\n",
    "             'criterion' : ['gini', 'entropy'], \n",
    "             'max_depth' : [3, 5, 10],\n",
    "             'random_state' : [90, 123, 42, 56, 45]}\n",
    "\n",
    "rf = RandomForestClassifier()\n",
    "\n",
    "gs_rf = GridSearchCV(rf, param_grid = parameters, cv = 4)\n",
    "\n",
    "gs_rf.fit(X_train_val, y_train_val)"
   ]
  },
  {
   "cell_type": "code",
   "execution_count": 42,
   "id": "bc9b3cb5",
   "metadata": {},
   "outputs": [
    {
     "name": "stdout",
     "output_type": "stream",
     "text": [
      "The best score is: {'criterion': 'entropy', 'max_depth': 5, 'n_estimators': 100, 'random_state': 90}\n",
      "The best parameters are: 0.828288490284006\n"
     ]
    }
   ],
   "source": [
    "print('The best score is: {}\\nThe best parameters are: {}'.format(gs_rf.best_params_, gs_rf.best_score_))"
   ]
  },
  {
   "cell_type": "markdown",
   "id": "ad1ecd59",
   "metadata": {},
   "source": [
    "#### K-nn"
   ]
  },
  {
   "cell_type": "code",
   "execution_count": 43,
   "id": "ea4f44bc",
   "metadata": {},
   "outputs": [],
   "source": [
    "accuracyscore_values_train = []\n",
    "accuracyscore_values_val = []\n",
    "\n",
    "f1score_values_train = []\n",
    "f1score_values_val = []\n",
    "\n",
    "n_neighbours = range(1, 500)\n",
    "for k in n_neighbours:\n",
    "    knn = KNeighborsClassifier(n_neighbors = k, n_jobs = -1, algorithm = 'brute')\n",
    "    knn.fit(X_train, y_train)\n",
    "    y_train_pred = knn.predict(X_train)\n",
    "    y_val_pred = knn.predict(X_val)\n",
    "    f1score_values_train.append(f1_score(y_train, y_train_pred,average = 'macro'))\n",
    "    f1score_values_val.append(f1_score(y_val, y_val_pred, average = 'macro'))\n",
    "    accuracyscore_values_train.append(accuracy_score(y_train, y_train_pred))\n",
    "    accuracyscore_values_val.append(accuracy_score(y_val, y_val_pred))\n",
    "    "
   ]
  },
  {
   "cell_type": "code",
   "execution_count": 44,
   "id": "021dba3a",
   "metadata": {},
   "outputs": [
    {
     "data": {
      "image/png": "[encoded data removed]",
      "text/plain": [
       "<Figure size 1440x432 with 2 Axes>"
      ]
     },
     "metadata": {
      "needs_background": "light"
     },
     "output_type": "display_data"
    }
   ],
   "source": [
    "fig, ax = plt.subplots(1, 2, figsize=(20,6))\n",
    "lineplot_train = sns.lineplot(x = n_neighbours, y = f1score_values_train, label=\"train\", ax = ax[0])\n",
    "lineplot_val = sns.lineplot(x = n_neighbours, y = f1score_values_val, label=\"val\", ax = ax[0])\n",
    "_ = ax[0].set_xlabel('K')\n",
    "_ = ax[0].set_ylabel('f1score')\n",
    "\n",
    "\n",
    "lineplot_train = sns.lineplot(x = n_neighbours, y = accuracyscore_values_train, label=\"train\", ax = ax[1])\n",
    "lineplot_val = sns.lineplot(x = n_neighbours, y = accuracyscore_values_val, label=\"val\", ax = ax[1])\n",
    "_ = ax[0].set_xlabel('K')\n",
    "_ = ax[0].set_ylabel('accuracyscore')\n",
    "\n",
    "\n"
   ]
  },
  {
   "cell_type": "code",
   "execution_count": 45,
   "id": "cd5793ae",
   "metadata": {},
   "outputs": [
    {
     "name": "stdout",
     "output_type": "stream",
     "text": [
      "The best f1-score obtained is: 0.8230562088829805\n",
      "It is obtained when k = [4]\n",
      "The best accuracy-score obtained is: 0.8379888268156425\n",
      "It is obtained when k = [4]\n"
     ]
    }
   ],
   "source": [
    "print('The best f1-score obtained is: {}\\nIt is obtained when k = {}'.format(np.max(f1score_values_val), np.where(f1score_values_val == np.max(f1score_values_val))[0]))\n",
    "print('The best accuracy-score obtained is: {}\\nIt is obtained when k = {}'.format(np.max(accuracyscore_values_val), np.where(accuracyscore_values_val == np.max(accuracyscore_values_val))[0]))"
   ]
  },
  {
   "cell_type": "markdown",
   "id": "c1f692a6",
   "metadata": {},
   "source": [
    "## Processing with the best algorithms"
   ]
  },
  {
   "cell_type": "markdown",
   "id": "2056c9ce",
   "metadata": {},
   "source": [
    "As a rule to proceed, I will take the three algorithms with the best <code>accuracy_score</code>. In compliance with this rule, we'll look into:\n",
    "- SVM\n",
    "- Random Forest\n",
    "- K-nn\n",
    "\n",
    "Now I will use the train dataset division I did before, where I took a subset to evaluate the model. I have less examples to train the model, but a good vision on what could be the algorithm to use for the final evaluation."
   ]
  },
  {
   "cell_type": "markdown",
   "id": "6d67ac89",
   "metadata": {},
   "source": [
    "### SVM"
   ]
  },
  {
   "cell_type": "code",
   "execution_count": 46,
   "id": "a9f1492d",
   "metadata": {},
   "outputs": [
    {
     "data": {
      "text/plain": [
       "SVC(C=1)"
      ]
     },
     "execution_count": 46,
     "metadata": {},
     "output_type": "execute_result"
    }
   ],
   "source": [
    "svm = SVC(C = 1, kernel = 'rbf')\n",
    "svm.fit(X_train, y_train)"
   ]
  },
  {
   "cell_type": "code",
   "execution_count": 47,
   "id": "140b8b06",
   "metadata": {},
   "outputs": [],
   "source": [
    "y_train_pred = svm.predict(X_train)\n",
    "y_val_pred = svm.predict(X_val)"
   ]
  },
  {
   "cell_type": "code",
   "execution_count": 48,
   "id": "297f5cac",
   "metadata": {},
   "outputs": [
    {
     "name": "stdout",
     "output_type": "stream",
     "text": [
      "The accuracy score on the train set is: 0.8230337078651685\n",
      "The accuracy score on the validation set is: 0.8379888268156425\n",
      "The f1 score on the train set is: 0.7622641509433964\n",
      "The f1 score on the validation set is: 0.7716535433070866\n"
     ]
    }
   ],
   "source": [
    "accuracy_score_train = accuracy_score(y_train, y_train_pred)\n",
    "accuracy_score_val = accuracy_score(y_val, y_val_pred)\n",
    "\n",
    "print('The accuracy score on the train set is: {}\\nThe accuracy score on the validation set is: {}'.format(accuracy_score_train, accuracy_score_val))\n",
    "\n",
    "f1score_train = f1_score(y_train, y_train_pred)\n",
    "f1score_val = f1_score(y_val, y_val_pred)\n",
    "\n",
    "print('The f1 score on the train set is: {}\\nThe f1 score on the validation set is: {}'.format(f1score_train, f1score_val))"
   ]
  },
  {
   "cell_type": "code",
   "execution_count": 49,
   "id": "28332846",
   "metadata": {},
   "outputs": [
    {
     "data": {
      "text/plain": [
       "array([181, 169])"
      ]
     },
     "execution_count": 49,
     "metadata": {},
     "output_type": "execute_result"
    }
   ],
   "source": [
    "svm.n_support_"
   ]
  },
  {
   "cell_type": "markdown",
   "id": "ca2ef967",
   "metadata": {},
   "source": [
    "### Random Forest"
   ]
  },
  {
   "cell_type": "code",
   "execution_count": 50,
   "id": "08ea6079",
   "metadata": {},
   "outputs": [
    {
     "data": {
      "text/plain": [
       "RandomForestClassifier(criterion='entropy', max_depth=10, random_state=123)"
      ]
     },
     "execution_count": 50,
     "metadata": {},
     "output_type": "execute_result"
    }
   ],
   "source": [
    "rf = RandomForestClassifier(criterion ='entropy', max_depth = 10, n_estimators = 100, random_state = 123)\n",
    "rf.fit(X_train, y_train)"
   ]
  },
  {
   "cell_type": "code",
   "execution_count": 51,
   "id": "aa3a2d40",
   "metadata": {},
   "outputs": [],
   "source": [
    "y_train_pred = rf.predict(X_train)\n",
    "y_val_pred = rf.predict(X_val)"
   ]
  },
  {
   "cell_type": "code",
   "execution_count": 52,
   "id": "c8daa3f4",
   "metadata": {},
   "outputs": [
    {
     "name": "stdout",
     "output_type": "stream",
     "text": [
      "The accuracy score on the train set is: 0.9058988764044944\n",
      "The accuracy score on the validation set is: 0.8044692737430168\n",
      "The f1 score on the train set is: 0.872865275142315\n",
      "The f1 score on the validation set is: 0.7286821705426355\n"
     ]
    }
   ],
   "source": [
    "accuracy_score_train = accuracy_score(y_train, y_train_pred)\n",
    "accuracy_score_val = accuracy_score(y_val, y_val_pred)\n",
    "\n",
    "print('The accuracy score on the train set is: {}\\nThe accuracy score on the validation set is: {}'.format(accuracy_score_train, accuracy_score_val))\n",
    "\n",
    "f1score_train = f1_score(y_train, y_train_pred)\n",
    "f1score_val = f1_score(y_val, y_val_pred)\n",
    "\n",
    "print('The f1 score on the train set is: {}\\nThe f1 score on the validation set is: {}'.format(f1score_train, f1score_val))"
   ]
  },
  {
   "cell_type": "markdown",
   "id": "89ade46f",
   "metadata": {},
   "source": [
    "We can see that our model is overfitting a little since the score on the train set is much higher than the one on the validation set. Now I will try to select only the features that are very important for the algorithm."
   ]
  },
  {
   "cell_type": "code",
   "execution_count": 53,
   "id": "42b7da31",
   "metadata": {},
   "outputs": [
    {
     "data": {
      "image/png": "[encoded data removed]",
      "text/plain": [
       "<Figure size 720x288 with 1 Axes>"
      ]
     },
     "metadata": {
      "needs_background": "light"
     },
     "output_type": "display_data"
    }
   ],
   "source": [
    "importances = pd.DataFrame(data ={'feature' : features, 'importance' : rf.feature_importances_})\n",
    "fig, ax = plt.subplots(1, 1, figsize = (10, 4))\n",
    "_ = sns.barplot(x = importances['feature'], y = importances['importance'])"
   ]
  },
  {
   "cell_type": "markdown",
   "id": "660eb7f8",
   "metadata": {},
   "source": [
    "We can see that the **Parch** and **Embarked** columns have little importance to the split in each decision tree of the random forest. Thus, I will try to drop them and re-train the model."
   ]
  },
  {
   "cell_type": "code",
   "execution_count": 54,
   "id": "3e774740",
   "metadata": {},
   "outputs": [
    {
     "name": "stdout",
     "output_type": "stream",
     "text": [
      "X_train shape: (712, 6) \ty_train shape: (712,)\n",
      "X_val shape: (179, 6) \t\ty_val shape: (179,)\n"
     ]
    }
   ],
   "source": [
    "new_features = ['Pclass', 'Sex', 'Age_cat', 'SibSp', 'Fare_cat', 'Title']\n",
    "X_train_val = data_train.loc[:, new_features].copy()\n",
    "\n",
    "X_train, X_val, y_train, y_val = train_test_split(X_train_val, y_train_val,\n",
    "                                                 train_size = 0.8, random_state = 123)\n",
    "print('X_train shape: {} \\ty_train shape: {}'.format(X_train.shape, y_train.shape))\n",
    "print('X_val shape: {} \\t\\ty_val shape: {}'.format(X_val.shape, y_val.shape))\n"
   ]
  },
  {
   "cell_type": "code",
   "execution_count": 55,
   "id": "7040bfe3",
   "metadata": {},
   "outputs": [
    {
     "data": {
      "text/plain": [
       "RandomForestClassifier(criterion='entropy', max_depth=10, random_state=1)"
      ]
     },
     "execution_count": 55,
     "metadata": {},
     "output_type": "execute_result"
    }
   ],
   "source": [
    "rf = RandomForestClassifier(criterion ='entropy', max_depth = 10, n_estimators = 100, random_state = 1)\n",
    "rf.fit(X_train, y_train)"
   ]
  },
  {
   "cell_type": "code",
   "execution_count": 56,
   "id": "16f6250f",
   "metadata": {},
   "outputs": [],
   "source": [
    "y_train_pred_rf = rf.predict(X_train)\n",
    "y_val_pred_rf = rf.predict(X_val)"
   ]
  },
  {
   "cell_type": "code",
   "execution_count": 57,
   "id": "f825d183",
   "metadata": {},
   "outputs": [
    {
     "name": "stdout",
     "output_type": "stream",
     "text": [
      "The accuracy score on the train set is: 0.8918539325842697\n",
      "The accuracy score on the validation set is: 0.8268156424581006\n",
      "The f1 score on the train set is: 0.8516377649325626\n",
      "The f1 score on the validation set is: 0.7559055118110236\n"
     ]
    }
   ],
   "source": [
    "accuracy_score_train = accuracy_score(y_train, y_train_pred_rf)\n",
    "accuracy_score_val = accuracy_score(y_val, y_val_pred_rf)\n",
    "\n",
    "print('The accuracy score on the train set is: {}\\nThe accuracy score on the validation set is: {}'.format(accuracy_score_train, accuracy_score_val))\n",
    "\n",
    "f1score_train = f1_score(y_train, y_train_pred_rf)\n",
    "f1score_val = f1_score(y_val, y_val_pred_rf)\n",
    "\n",
    "print('The f1 score on the train set is: {}\\nThe f1 score on the validation set is: {}'.format(f1score_train, f1score_val))"
   ]
  },
  {
   "cell_type": "markdown",
   "id": "7959acf8",
   "metadata": {},
   "source": [
    "The model seems a little better now. We have reduced the gap between the scores on the train and validation set, improving the score on the validation set."
   ]
  },
  {
   "cell_type": "markdown",
   "id": "dad3503a",
   "metadata": {},
   "source": [
    "### Knn"
   ]
  },
  {
   "cell_type": "code",
   "execution_count": 58,
   "id": "64c6172d",
   "metadata": {},
   "outputs": [
    {
     "name": "stdout",
     "output_type": "stream",
     "text": [
      "Shape of X_train_val: (891, 8)\n",
      "Shape of y_train_val: (891,)\n",
      "Shape of X_train: (712, 8) \tShape of y_train: (712,)\n",
      "Shape of X_val: (179, 8) \tShape of y_val: (179,)\n"
     ]
    }
   ],
   "source": [
    "# To return to the previous dataset - I have modified the chosen features during random forest\n",
    "X_train_val = data_train.loc[:, features].copy()\n",
    "print('Shape of X_train_val: {}'.format(X_train_val.shape))\n",
    "y_train_val = data_train.loc[:, 'Survived'].copy()\n",
    "print('Shape of y_train_val: {}'.format(y_train_val.shape))\n",
    "\n",
    "X_train, X_val, y_train, y_val = train_test_split(X_train_val, y_train_val,\n",
    "                                                 train_size = 0.8, random_state = 123)\n",
    "print('Shape of X_train: {}'.format(X_train.shape), '\\tShape of y_train: {}'.format(y_train.shape))\n",
    "print('Shape of X_val: {}'.format(X_val.shape), '\\tShape of y_val: {}'.format(y_val.shape))"
   ]
  },
  {
   "cell_type": "code",
   "execution_count": 59,
   "id": "b5813470",
   "metadata": {},
   "outputs": [],
   "source": [
    "knn = KNeighborsClassifier(n_neighbors = 4, n_jobs = -1, algorithm = 'brute')\n",
    "knn.fit(X_train, y_train)\n",
    "y_train_pred_knn = knn.predict(X_train)\n",
    "y_val_pred_knn = knn.predict(X_val)"
   ]
  },
  {
   "cell_type": "code",
   "execution_count": 60,
   "id": "10beff29",
   "metadata": {},
   "outputs": [
    {
     "name": "stdout",
     "output_type": "stream",
     "text": [
      "The accuracy score on the train set is: 0.8539325842696629\n",
      "The accuracy score on the validation set is: 0.8268156424581006\n",
      "The f1 score on the train set is: 0.7944664031620554\n",
      "The f1 score on the validation set is: 0.7438016528925621\n"
     ]
    }
   ],
   "source": [
    "accuracy_score_train = accuracy_score(y_train, y_train_pred_knn)\n",
    "accuracy_score_val = accuracy_score(y_val, y_val_pred_knn)\n",
    "\n",
    "print('The accuracy score on the train set is: {}\\nThe accuracy score on the validation set is: {}'.format(accuracy_score_train, accuracy_score_val))\n",
    "\n",
    "f1score_train = f1_score(y_train, y_train_pred_knn)\n",
    "f1score_val = f1_score(y_val, y_val_pred_knn)\n",
    "\n",
    "print('The f1 score on the train set is: {}\\nThe f1 score on the validation set is: {}'.format(f1score_train, f1score_val))"
   ]
  },
  {
   "cell_type": "markdown",
   "id": "75eafa5d",
   "metadata": {},
   "source": [
    "## Error Analysis\n",
    "Based on the result obtained, I can say that the random forest is the algorithm which behaves the best. However, there are not big differences between these algorithms, and could be that if we split the <code>train_val</code> dataset in a different manner, we end up to have values slightly different which could make another algorithm better than random forest. Now let's see which kind of error we make on both the random forest and K-nn models."
   ]
  },
  {
   "cell_type": "code",
   "execution_count": 61,
   "id": "201e15d0",
   "metadata": {},
   "outputs": [
    {
     "data": {
      "image/png": "[encoded data removed]",
      "text/plain": [
       "<Figure size 432x288 with 2 Axes>"
      ]
     },
     "metadata": {
      "needs_background": "light"
     },
     "output_type": "display_data"
    },
    {
     "data": {
      "image/png": "[encoded data removed]",
      "text/plain": [
       "<Figure size 432x288 with 2 Axes>"
      ]
     },
     "metadata": {
      "needs_background": "light"
     },
     "output_type": "display_data"
    }
   ],
   "source": [
    "\n",
    "cm = confusion_matrix(y_val, y_val_pred_rf, labels = [0, 1])\n",
    "disp = ConfusionMatrixDisplay(confusion_matrix = cm, display_labels = {0 : 'Not survived', 1 : 'Survived'}.values())\n",
    "_ = disp.plot()\n",
    "plt.title('Random Forest')\n",
    "plt.show()\n",
    "\n",
    "cm = confusion_matrix(y_val, y_val_pred_knn, labels = [0, 1])\n",
    "disp = ConfusionMatrixDisplay(confusion_matrix = cm, display_labels = {0 : 'Not survived', 1 : 'Survived'}.values())\n",
    "disp.plot()\n",
    "plt.title('K-nn')\n",
    "plt.show()"
   ]
  },
  {
   "cell_type": "markdown",
   "id": "8c434aed",
   "metadata": {},
   "source": [
    "While the random forest commits as much type 1 error as type 2, we have that the K-nn method predicts in a worse way the people who actually survived."
   ]
  },
  {
   "cell_type": "markdown",
   "id": "61c98be6",
   "metadata": {},
   "source": [
    "## Random Forest and K-nn on the test set\n",
    "### Random Forest"
   ]
  },
  {
   "cell_type": "code",
   "execution_count": 62,
   "id": "9b11cbca",
   "metadata": {},
   "outputs": [],
   "source": [
    "# Taking the data\n",
    "X_test = data_test.loc[:, new_features].copy()\n",
    "X_train = data_train.loc[:, new_features].copy()\n",
    "y_train = data_train.loc[:, 'Survived'].copy()\n"
   ]
  },
  {
   "cell_type": "code",
   "execution_count": 63,
   "id": "7f569066",
   "metadata": {},
   "outputs": [
    {
     "data": {
      "text/plain": [
       "RandomForestClassifier(criterion='entropy', max_depth=10, random_state=123)"
      ]
     },
     "execution_count": 63,
     "metadata": {},
     "output_type": "execute_result"
    }
   ],
   "source": [
    "# Fit the model\n",
    "rf = RandomForestClassifier(criterion ='entropy', max_depth = 10, n_estimators = 100, random_state = 123)\n",
    "rf.fit(X_train, y_train)"
   ]
  },
  {
   "cell_type": "code",
   "execution_count": 64,
   "id": "b12f4f07",
   "metadata": {},
   "outputs": [],
   "source": [
    "# Predict the Survived values\n",
    "y_test_pred_rf = rf.predict(X_test)"
   ]
  },
  {
   "cell_type": "code",
   "execution_count": 65,
   "id": "4173c3b7",
   "metadata": {},
   "outputs": [],
   "source": [
    "# Write the file\n",
    "from pathlib import Path  \n",
    "filepath = Path('test_result_rf.csv')  "
   ]
  },
  {
   "cell_type": "code",
   "execution_count": 66,
   "id": "b5632cce",
   "metadata": {},
   "outputs": [],
   "source": [
    "result = pd.Series(y_test_pred_rf, index = data_test.index, name = 'Survived')\n",
    "result.to_csv(filepath)"
   ]
  },
  {
   "cell_type": "markdown",
   "id": "1e4e4def",
   "metadata": {},
   "source": [
    "### K-nn"
   ]
  },
  {
   "cell_type": "code",
   "execution_count": 67,
   "id": "4b2d7658",
   "metadata": {},
   "outputs": [],
   "source": [
    "# Taking the data\n",
    "X_test = data_test.loc[:, features].copy()\n",
    "X_train = data_train.loc[:, features].copy()\n",
    "y_train = data_train.loc[:, 'Survived'].copy()"
   ]
  },
  {
   "cell_type": "code",
   "execution_count": 71,
   "id": "30bcdd4a",
   "metadata": {},
   "outputs": [
    {
     "data": {
      "text/plain": [
       "KNeighborsClassifier(algorithm='brute', n_jobs=-1, n_neighbors=4)"
      ]
     },
     "execution_count": 71,
     "metadata": {},
     "output_type": "execute_result"
    }
   ],
   "source": [
    "# Train the model\n",
    "knn = KNeighborsClassifier(n_neighbors = 4, n_jobs = -1, algorithm = 'brute')\n",
    "knn.fit(X_train, y_train)"
   ]
  },
  {
   "cell_type": "code",
   "execution_count": 72,
   "id": "c7fab0f3",
   "metadata": {},
   "outputs": [],
   "source": [
    "# Predict the Survived values\n",
    "y_test_pred_knn = knn.predict(X_test)"
   ]
  },
  {
   "cell_type": "code",
   "execution_count": 73,
   "id": "ba68beec",
   "metadata": {},
   "outputs": [],
   "source": [
    "filepath = Path('test_result_knn.csv') \n",
    "result = pd.Series(y_test_pred_rf, index = data_test.index, name = 'Survived')\n",
    "result.to_csv(filepath)"
   ]
  },
  {
   "cell_type": "markdown",
   "id": "0310d186",
   "metadata": {},
   "source": [
    "## Conclusion\n",
    "It has been challenging. I know this results could be better, and that I could have made some mistakes during the journey. I enjoyed working with this data. There a lot of different things I could have tried, but for now this notebook is complete. Hope you have enjoyed my work too."
   ]
  }
 ],
 "metadata": {
  "kernelspec": {
   "display_name": "Python 3",
   "language": "python",
   "name": "python3"
  },
  "language_info": {
   "codemirror_mode": {
    "name": "ipython",
    "version": 3
   },
   "file_extension": ".py",
   "mimetype": "text/x-python",
   "name": "python",
   "nbconvert_exporter": "python",
   "pygments_lexer": "ipython3",
   "version": "3.8.8"
  }
 },
 "nbformat": 4,
 "nbformat_minor": 5
}
